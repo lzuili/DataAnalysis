{
 "cells": [
  {
   "cell_type": "markdown",
   "metadata": {},
   "source": [
    "# PCA example - Flags\n",
    "Data Analysis - ISAE 2019/2020 - Ahmad Berjaoui"
   ]
  },
  {
   "cell_type": "code",
   "execution_count": null,
   "metadata": {},
   "outputs": [],
   "source": [
    "from os import path #path handling\n",
    "import numpy as np #numpy arrays operation\n",
    "from mpl_toolkits.mplot3d import Axes3D # 3D plots\n",
    "import matplotlib.pyplot as plt #plotting and image viewing\n",
    "from sklearn.decomposition import PCA\n",
    "#inline plots for nicer viewing\n",
    "%matplotlib inline "
   ]
  },
  {
   "cell_type": "code",
   "execution_count": null,
   "metadata": {},
   "outputs": [],
   "source": [
    "def displayImage(data):\n",
    "  \"\"\"\n",
    "  Display an image from RGB\n",
    "  \n",
    "  Args:\n",
    "    data: (numpy.ndarray) RGB matrix\n",
    "  \"\"\"\n",
    "  plt.imshow(data)\n",
    "  plt.show()\n",
    "  return"
   ]
  },
  {
   "cell_type": "code",
   "execution_count": null,
   "metadata": {},
   "outputs": [],
   "source": [
    "def correctImageHisto(img):\n",
    "  \"\"\"\n",
    "  Shift image histogram by removing negative values in RGB matrix and normalizing values to [0,1]\n",
    "  \n",
    "  Args:\n",
    "    img: (numpy.ndarray) RGB matrix to shift\n",
    "  \n",
    "  Returns: (numpy.ndarray) Corrected RGB matrix\n",
    "  \"\"\"\n",
    "  shifted = img + np.abs(np.min(img))\n",
    "  corrected = shifted/np.max(shifted)\n",
    "  return corrected"
   ]
  },
  {
   "cell_type": "code",
   "execution_count": null,
   "metadata": {},
   "outputs": [],
   "source": [
    "def rgbScatterPlot(rgb,name):\n",
    "  \"\"\"\n",
    "  Plot a 3D plot of RGB values\n",
    "  \n",
    "  Args:\n",
    "    rgb: (numpy.ndarray) RGB line matrix\n",
    "    name: (str) Plot name\n",
    "  \"\"\"\n",
    "  fig = plt.figure(figsize=(12, 8), dpi=80, facecolor='w', edgecolor='k')\n",
    "  \n",
    "  ax = fig.add_subplot(111, projection='3d')\n",
    "  ax.scatter(rgb[:,0],rgb[:,1],rgb[:,2])\n",
    "  ax.set_xlabel('Red')\n",
    "  ax.set_ylabel('Green')\n",
    "  ax.set_zlabel('Blue')\n",
    "  plt.title('{} RGB values'.format(name))\n",
    "  plt.show()\n",
    "  return"
   ]
  },
  {
   "cell_type": "code",
   "execution_count": null,
   "metadata": {},
   "outputs": [],
   "source": [
    "def getRGBMatrix(x):\n",
    "  \"\"\"\n",
    "  Build a line-wise RGB matrix from an image, in preparation for PCA\n",
    "  \n",
    "  Args:\n",
    "    x: (numpy.ndarray) Input image of shape (M,N,3)\n",
    "  \n",
    "  Returns: (numpy,ndarray) RGB line matrix of shape (M*N,3)\n",
    "  \"\"\"\n",
    "  y = np.reshape(x,(-1,3))\n",
    "  rgb = np.array([y[:,0],y[:,1],y[:,2]]).transpose()\n",
    "  return rgb"
   ]
  },
  {
   "cell_type": "markdown",
   "metadata": {},
   "source": [
    "## 1- Data loading"
   ]
  },
  {
   "cell_type": "code",
   "execution_count": null,
   "metadata": {},
   "outputs": [],
   "source": [
    "dataPath = '/home/aberjaoui/Desktop/ISAE/solutions/data/flags' # path to folder containing the data\n",
    "flagUK = plt.imread(path.join(dataPath,'UK.jpg'))/255.0 # divide by 255 to get values between 0 and 1\n",
    "flagFR1 = plt.imread(path.join(dataPath,'France1.png')) # values already between 0 and 1 for png\n",
    "flagFR2 = plt.imread(path.join(dataPath,'France2.jpg'))/255.0 # divide by 255 to get values between 0 and 1\n",
    "murene = plt.imread(path.join(dataPath,'murene.jpg'))/255.0"
   ]
  },
  {
   "cell_type": "code",
   "execution_count": null,
   "metadata": {},
   "outputs": [],
   "source": [
    "for flag in [flagUK,flagFR1,flagFR2,murene]:\n",
    "  displayImage(flag)"
   ]
  },
  {
   "cell_type": "markdown",
   "metadata": {},
   "source": [
    "## 2- PCA"
   ]
  },
  {
   "cell_type": "code",
   "execution_count": null,
   "metadata": {},
   "outputs": [],
   "source": [
    "# Select a flag to generate a basis\n",
    "# and save its shape\n",
    "\n",
    "baseData = flagFR1\n",
    "baseShape = baseData.shape"
   ]
  },
  {
   "cell_type": "code",
   "execution_count": null,
   "metadata": {},
   "outputs": [],
   "source": [
    "# Select another flag (can be the basis flag) to be decomposed in the previous basis\n",
    "# and save its shape\n",
    "\n",
    "otherData = murene\n",
    "otherShape = otherData.shape"
   ]
  },
  {
   "cell_type": "code",
   "execution_count": null,
   "metadata": {},
   "outputs": [],
   "source": [
    "# Create a PCA object\n",
    "\n",
    "pca = PCA(n_components=2,\n",
    "          copy=True,\n",
    "          whiten=False,\n",
    "          svd_solver='full',\n",
    "          tol=0.0,\n",
    "          iterated_power='auto',\n",
    "          random_state=None)"
   ]
  },
  {
   "cell_type": "code",
   "execution_count": null,
   "metadata": {},
   "outputs": [],
   "source": [
    "# reshape the data as a R,G,B matrix (each component is a line)\n",
    "\n",
    "baseRGB = getRGBMatrix(baseData)\n",
    "print(baseRGB.shape)\n",
    "rgbScatterPlot(baseRGB,'Base')"
   ]
  },
  {
   "cell_type": "code",
   "execution_count": null,
   "metadata": {},
   "outputs": [],
   "source": [
    "# Apply decomposition\n",
    "\n",
    "decomposition = pca.fit(baseRGB)\n",
    "eigenVectors = decomposition.components_\n",
    "eigenValues = decomposition.singular_values_\n",
    "print('Variances explanation ratios: {}\\n'.format(decomposition.explained_variance_))\n",
    "\n",
    "print('Eigen Vectors:\\n {}\\n'.format(eigenVectors))\n",
    "print('Eigen Values:\\n {}\\n'.format(eigenValues))"
   ]
  },
  {
   "cell_type": "markdown",
   "metadata": {},
   "source": [
    "## 3- Dimension reduction"
   ]
  },
  {
   "cell_type": "code",
   "execution_count": null,
   "metadata": {},
   "outputs": [],
   "source": [
    "# Decompose the other flag in the eigen vectors frame\n",
    "\n",
    "otherRGB = getRGBMatrix(otherData) # get RGB data for other flag\n",
    "\n",
    "reducedOtherCoeffs = decomposition.transform(otherRGB) # get base components for each eigen vector\n",
    "reducedOtherVectors = np.dot(reducedOtherCoeffs,eigenVectors) # scalar product to return to colors"
   ]
  },
  {
   "cell_type": "code",
   "execution_count": null,
   "metadata": {},
   "outputs": [],
   "source": [
    "# Reshape reduced data into an image, correct histogram and display it\n",
    "reducedOtherImage = correctImageHisto(np.reshape(reducedOtherVectors,otherShape))\n",
    "displayImage(reducedOtherImage)"
   ]
  },
  {
   "cell_type": "code",
   "execution_count": null,
   "metadata": {},
   "outputs": [],
   "source": [
    "rgbScatterPlot(otherRGB,'Other flag (full)')\n",
    "rgbScatterPlot(correctImageHisto(reducedOtherVectors),'Other flag (reduced)')"
   ]
  },
  {
   "cell_type": "code",
   "execution_count": null,
   "metadata": {},
   "outputs": [],
   "source": []
  }
 ],
 "metadata": {
  "kernelspec": {
   "display_name": "Python 3",
   "language": "python",
   "name": "python3"
  },
  "language_info": {
   "codemirror_mode": {
    "name": "ipython",
    "version": 3
   },
   "file_extension": ".py",
   "mimetype": "text/x-python",
   "name": "python",
   "nbconvert_exporter": "python",
   "pygments_lexer": "ipython3",
   "version": "3.8.5"
  }
 },
 "nbformat": 4,
 "nbformat_minor": 2
}
